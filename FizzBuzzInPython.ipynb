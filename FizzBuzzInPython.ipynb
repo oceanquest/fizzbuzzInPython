{
 "cells": [
  {
   "cell_type": "code",
   "execution_count": 2,
   "metadata": {},
   "outputs": [],
   "source": [
    "import random"
   ]
  },
  {
   "cell_type": "code",
   "execution_count": 8,
   "metadata": {},
   "outputs": [
    {
     "name": "stdout",
     "output_type": "stream",
     "text": [
      "TRADITIONAL APPROACH OUTPUT for number 1 to 20\n",
      "1\n",
      "2\n",
      "3: Fizz\n",
      "4\n",
      "5: Buzz\n",
      "6: Fizz\n",
      "7\n",
      "8\n",
      "9: Fizz\n",
      "10: Buzz\n",
      "11\n",
      "12: Fizz\n",
      "13\n",
      "14\n",
      "15: FizzBuzz\n",
      "16\n",
      "17\n",
      "18: Fizz\n",
      "19\n",
      "20: Buzz\n",
      "\n",
      "\n",
      "Better APPROACH OUTPUT for number 1 to 30\n",
      "1:\n",
      "2:\n",
      "3:Fizz\n",
      "4:\n",
      "5:Buzz\n",
      "6:Fizz\n",
      "7:\n",
      "8:\n",
      "9:Fizz\n",
      "10:Buzz\n",
      "11:\n",
      "12:Fizz\n",
      "13:\n",
      "14:\n",
      "15:FizzBuzz\n",
      "16:\n",
      "17:\n",
      "18:Fizz\n",
      "19:\n",
      "20:Buzz\n",
      "21:Fizz\n",
      "22:\n",
      "23:\n",
      "24:Fizz\n",
      "25:Buzz\n",
      "26:\n",
      "27:Fizz\n",
      "28:\n",
      "29:\n",
      "30:FizzBuzz\n"
     ]
    }
   ],
   "source": [
    "#Traditional approach which is kinda dumb\n",
    "print('TRADITIONAL APPROACH OUTPUT for number 1 to 20')\n",
    "for i in range(1,21):\n",
    "    #print no\n",
    "    if(i%15 == 0):\n",
    "        print(str(i) + \": FizzBuzz\")\n",
    "    elif(i%3 == 0):\n",
    "        print(str(i) + \": Fizz\")\n",
    "    elif(i%5 == 0):\n",
    "        print(str(i) + \": Buzz\")\n",
    "    else:\n",
    "        print (i)\n",
    "print('\\n')\n",
    "#Awesome approach understanding mutually exclusive events can be used into codes advantage.\n",
    "print('Better APPROACH OUTPUT for number 1 to 30')\n",
    "for i in range(1,31):\n",
    "    result = \"\"\n",
    "    if(i%3 == 0):\n",
    "        result = result + \"Fizz\"\n",
    "    if(i%5 == 0):\n",
    "        result = result + \"Buzz\"\n",
    "    result = str(i) + \":\" + result\n",
    "    print(result) \n",
    "    "
   ]
  }
 ],
 "metadata": {
  "kernelspec": {
   "display_name": "Python 3",
   "language": "python",
   "name": "python3"
  },
  "language_info": {
   "codemirror_mode": {
    "name": "ipython",
    "version": 3
   },
   "file_extension": ".py",
   "mimetype": "text/x-python",
   "name": "python",
   "nbconvert_exporter": "python",
   "pygments_lexer": "ipython3",
   "version": "3.7.4"
  }
 },
 "nbformat": 4,
 "nbformat_minor": 2
}
